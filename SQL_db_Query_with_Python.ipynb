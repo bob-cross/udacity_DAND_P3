{
 "cells": [
  {
   "cell_type": "code",
   "execution_count": 1,
   "metadata": {
    "collapsed": true
   },
   "outputs": [],
   "source": [
    "import sqlite3\n",
    "from pprint import pprint\n",
    "\n",
    "sqlite_file = 'austin_map.db'\n",
    "\n",
    "conn = sqlite3.connect(sqlite_file)\n",
    "c = conn.cursor()\n"
   ]
  },
  {
   "cell_type": "code",
   "execution_count": 2,
   "metadata": {
    "collapsed": false
   },
   "outputs": [
    {
     "name": "stdout",
     "output_type": "stream",
     "text": [
      "[(2011149,)]\n"
     ]
    }
   ],
   "source": [
    "# count the number of rows in 'node_tags'\n",
    "query = '''SELECT COUNT(*) as count FROM nodes_tags'''\n",
    "\n",
    "#execute query\n",
    "results = c.execute(query)\n",
    "\n",
    "#print results\n",
    "print list(results)\n"
   ]
  },
  {
   "cell_type": "code",
   "execution_count": 3,
   "metadata": {
    "collapsed": false
   },
   "outputs": [
    {
     "name": "stdout",
     "output_type": "stream",
     "text": [
      "(u'baptist', 93)\n",
      "(u'lutheran', 24)\n",
      "(u'methodist', 23)\n",
      "(u'catholic', 20)\n",
      "(u'presbyterian', 19)\n",
      "(u'pentecostal', 10)\n",
      "(u'mormon', 6)\n",
      "(u'roman_catholic', 4)\n",
      "(u'episcopal', 3)\n",
      "(u'seventh_day_adventist', 3)\n",
      "(u'anglican', 2)\n",
      "(u'jehovahs_witness', 2)\n",
      "(u'protestant', 2)\n",
      "(u'ahmadiyya', 1)\n",
      "(u'apostolic', 1)\n",
      "(u'coptic_orthodox', 1)\n",
      "(u'latter_day_saints', 1)\n",
      "(u'nazarene', 1)\n",
      "(u'nondenominational', 1)\n",
      "(u'nyingma', 1)\n",
      "(u'quaker', 1)\n"
     ]
    }
   ],
   "source": [
    "# count the number of different denominations in 'nodes_tags'\n",
    "query = '''select value, count(*) as num from nodes_tags where key=\"denomination\"\\\n",
    "                group by value \\\n",
    "                order by num desc'''\n",
    "\n",
    "results = c.execute(query)\n",
    "\n",
    "for r in results:\n",
    "    print r"
   ]
  },
  {
   "cell_type": "code",
   "execution_count": null,
   "metadata": {
    "collapsed": true
   },
   "outputs": [],
   "source": []
  },
  {
   "cell_type": "code",
   "execution_count": 4,
   "metadata": {
    "collapsed": false
   },
   "outputs": [
    {
     "name": "stdout",
     "output_type": "stream",
     "text": [
      "(u'parking', 1885)\n",
      "(u'restaurant', 700)\n",
      "(u'waste_basket', 601)\n",
      "(u'fast_food', 501)\n",
      "(u'school', 437)\n",
      "(u'place_of_worship', 413)\n",
      "(u'bench', 359)\n",
      "(u'fuel', 347)\n",
      "(u'shelter', 230)\n",
      "(u'bank', 150)\n"
     ]
    }
   ],
   "source": [
    "# count the number of different denominations in 'nodes_tags'\n",
    "query = '''select value, count(*) as num from nodes_tags where key=\"amenity\"\\\n",
    "                group by value \\\n",
    "                order by num desc\n",
    "                limit 10'''\n",
    "\n",
    "results = c.execute(query)\n",
    "\n",
    "for r in results:\n",
    "    print r"
   ]
  },
  {
   "cell_type": "code",
   "execution_count": 6,
   "metadata": {
    "collapsed": false
   },
   "outputs": [
    {
     "name": "stdout",
     "output_type": "stream",
     "text": [
      "(0,)\n"
     ]
    }
   ],
   "source": [
    "# count the number of Torcy taco restaurants in 'nodes_tags'\n",
    "query = '''SELECT COUNT(*) FROM nodes_tags WHERE value LIKE \"%Torchy's\"'''\n",
    "\n",
    "results = c.execute(query)\n",
    "\n",
    "for r in results:\n",
    "    print r"
   ]
  },
  {
   "cell_type": "code",
   "execution_count": null,
   "metadata": {
    "collapsed": true
   },
   "outputs": [],
   "source": []
  }
 ],
 "metadata": {
  "kernelspec": {
   "display_name": "Python [conda root]",
   "language": "python",
   "name": "conda-root-py"
  },
  "language_info": {
   "codemirror_mode": {
    "name": "ipython",
    "version": 2
   },
   "file_extension": ".py",
   "mimetype": "text/x-python",
   "name": "python",
   "nbconvert_exporter": "python",
   "pygments_lexer": "ipython2",
   "version": "2.7.12"
  }
 },
 "nbformat": 4,
 "nbformat_minor": 1
}
